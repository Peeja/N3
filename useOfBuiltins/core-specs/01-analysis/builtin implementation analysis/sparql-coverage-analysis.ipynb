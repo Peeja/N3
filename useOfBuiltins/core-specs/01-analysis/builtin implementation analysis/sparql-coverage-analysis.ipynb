{
 "cells": [
  {
   "cell_type": "code",
   "execution_count": 2,
   "metadata": {},
   "outputs": [],
   "source": [
    "from rdflib import Graph\n",
    "g = Graph().parse('../03-development/fno-builtins.n3', format='n3')"
   ]
  },
  {
   "attachments": {},
   "cell_type": "markdown",
   "metadata": {},
   "source": [
    "https://www.w3.org/2009/Talks/0615-qbe/\n",
    "\n",
    "https://docs.data.world/tutorials/sparql/list-of-sparql-filter-functions.html"
   ]
  },
  {
   "attachments": {},
   "cell_type": "markdown",
   "metadata": {},
   "source": [
    "### crypto "
   ]
  },
  {
   "attachments": {},
   "cell_type": "markdown",
   "metadata": {},
   "source": [
    "#### crypto:sha()\n",
    "http://rdf.greggkellogg.net/yard/SPARQL/Algebra/Operator/SHA1.html"
   ]
  },
  {
   "cell_type": "code",
   "execution_count": 8,
   "metadata": {},
   "outputs": [
    {
     "data": {
      "text/plain": [
       "['eca51196c35b042302d1ada4dc0897de822826b7']"
      ]
     },
     "execution_count": 8,
     "metadata": {},
     "output_type": "execute_result"
    }
   ],
   "source": [
    "query = \"\"\"\n",
    "\n",
    "PREFIX : <http://example.org/>\n",
    "SELECT (sha1(?o) AS ?hash) \n",
    "WHERE {\n",
    "    crypto:sha a fno:Function ;\n",
    "    dcterms:comment ?o\n",
    "}\n",
    "\"\"\"\n",
    "[row.hash.toPython() for row in g.query(query)]"
   ]
  },
  {
   "attachments": {},
   "cell_type": "markdown",
   "metadata": {},
   "source": [
    "### list"
   ]
  },
  {
   "cell_type": "code",
   "execution_count": 3,
   "metadata": {},
   "outputs": [
    {
     "name": "stdout",
     "output_type": "stream",
     "text": [
      "@prefix : <:> .\n",
      "@prefix rdf: <http://www.w3.org/1999/02/22-rdf-syntax-ns#> .\n",
      "\n",
      ":myList :contents ( \"one\" \"two\" \"three\" \"four\" \"five\" ) .\n",
      "\n",
      "\n"
     ]
    }
   ],
   "source": [
    "query = \"\"\"@prefix rdf: <http://www.w3.org/1999/02/22-rdf-syntax-ns#> . \n",
    "@prefix :   <:> .\n",
    "\n",
    ":myList :contents _:b1 .\n",
    "\n",
    "_:b1 rdf:first \"one\" .\n",
    "_:b1 rdf:rest _:b2 .\n",
    "\n",
    "_:b2 rdf:first \"two\" .\n",
    "_:b2 rdf:rest _:b3 .\n",
    "\n",
    "_:b3 rdf:first \"three\" .\n",
    "_:b3 rdf:rest _:b4 .\n",
    "\n",
    "_:b4 rdf:first \"four\" .\n",
    "_:b4 rdf:rest _:b5 .\n",
    "\n",
    "_:b5 rdf:first \"five\" .\n",
    "_:b5 rdf:rest rdf:nil .\n",
    "\"\"\"\n",
    "l = Graph().parse(data=query, format='turtle')\n",
    "l.print()"
   ]
  },
  {
   "attachments": {},
   "cell_type": "markdown",
   "metadata": {},
   "source": [
    "#### list:append()\n",
    "https://afs.github.io/rdf-lists-sparql\n",
    "http://www.snee.com/bobdc.blog/2014/04/rdf-lists-and-sparql.html"
   ]
  },
  {
   "cell_type": "code",
   "execution_count": null,
   "metadata": {},
   "outputs": [],
   "source": [
    "query = \"\"\"\n",
    "PREFIX :    <:> \n",
    "PREFIX rdf: <http://www.w3.org/1999/02/22-rdf-syntax-ns#> \n",
    "\n",
    "DELETE {\n",
    "  ?insertionPoint rdf:rest ?rest . \n",
    "}\n",
    "INSERT {\n",
    "  _:b1 rdf:first \"threePointFive\" ; rdf:rest ?rest . \n",
    "  ?insertionPoint rdf:rest _:b1 . \n",
    "}\n",
    "WHERE {\n",
    "  :myList :contents/rdf:rest/rdf:rest/rdf:first ?item .\n",
    "  ?insertionPoint rdf:first ?item ; rdf:rest ?rest . \n",
    "}\n",
    "\"\"\"\n",
    "l.update(query)\n",
    "l.print()"
   ]
  },
  {
   "attachments": {},
   "cell_type": "markdown",
   "metadata": {},
   "source": [
    "#### list:first()"
   ]
  },
  {
   "cell_type": "code",
   "execution_count": 12,
   "metadata": {},
   "outputs": [
    {
     "data": {
      "text/plain": [
       "['one']"
      ]
     },
     "execution_count": 12,
     "metadata": {},
     "output_type": "execute_result"
    }
   ],
   "source": [
    "query = \"\"\"\n",
    "prefix d: <:> \n",
    "prefix rdf: <http://www.w3.org/1999/02/22-rdf-syntax-ns#>\n",
    "\n",
    "select ?member \n",
    "where { \n",
    "    :myList :contents/rdf:first ?member\n",
    "}\n",
    "\"\"\"\n",
    "[row.member.toPython() for row in l.query(query)]"
   ]
  },
  {
   "attachments": {},
   "cell_type": "markdown",
   "metadata": {},
   "source": [
    "#### list:in() and list:member()\n",
    "\n",
    "https://stackoverflow.com/questions/35027230/find-lists-containing-all-values-in-a-set"
   ]
  },
  {
   "cell_type": "code",
   "execution_count": 69,
   "metadata": {},
   "outputs": [
    {
     "data": {
      "text/plain": [
       "True"
      ]
     },
     "execution_count": 69,
     "metadata": {},
     "output_type": "execute_result"
    }
   ],
   "source": [
    "query = \"\"\"\n",
    "prefix : <:> \n",
    "prefix rdf: <http://www.w3.org/1999/02/22-rdf-syntax-ns#>\n",
    "\n",
    "ask {\n",
    "  :myList :contents/rdf:rest*/rdf:first ?t .\n",
    "  filter(?t in (\"three\"))\n",
    "}\n",
    "\"\"\"\n",
    "l.query(query).askAnswer"
   ]
  },
  {
   "attachments": {},
   "cell_type": "markdown",
   "metadata": {},
   "source": [
    "#### list:iterate()"
   ]
  },
  {
   "cell_type": "code",
   "execution_count": null,
   "metadata": {},
   "outputs": [],
   "source": []
  },
  {
   "attachments": {},
   "cell_type": "markdown",
   "metadata": {},
   "source": [
    "#### list:last()"
   ]
  },
  {
   "cell_type": "code",
   "execution_count": 159,
   "metadata": {},
   "outputs": [
    {
     "data": {
      "text/plain": [
       "['five']"
      ]
     },
     "execution_count": 159,
     "metadata": {},
     "output_type": "execute_result"
    }
   ],
   "source": [
    "query = \"\"\"\n",
    "prefix d: <:> \n",
    "prefix rdf: <http://www.w3.org/1999/02/22-rdf-syntax-ns#>\n",
    "\n",
    "select ?member \n",
    "where { \n",
    "    :myList :contents/rdf:rest*/rdf:rest ?rest .\n",
    "    ?rest rdf:first ?member ;\n",
    "        rdf:rest rdf:nil .\n",
    "}\n",
    "\"\"\"\n",
    "[row.member.toPython() for row in l.query(query)]"
   ]
  },
  {
   "attachments": {},
   "cell_type": "markdown",
   "metadata": {},
   "source": [
    "#### list:length()"
   ]
  },
  {
   "cell_type": "code",
   "execution_count": 19,
   "metadata": {},
   "outputs": [
    {
     "data": {
      "text/plain": [
       "[5]"
      ]
     },
     "execution_count": 19,
     "metadata": {},
     "output_type": "execute_result"
    }
   ],
   "source": [
    "query = \"\"\"\n",
    "prefix d: <:> \n",
    "prefix rdf: <http://www.w3.org/1999/02/22-rdf-syntax-ns#>\n",
    "\n",
    "select (count(?member) as ?result)\n",
    "where { \n",
    "    :myList :contents/rdf:rest*/rdf:first ?member\n",
    "}\n",
    "\"\"\"\n",
    "[row.result.toPython() for row in l.query(query)]"
   ]
  },
  {
   "attachments": {},
   "cell_type": "markdown",
   "metadata": {},
   "source": [
    "#### list:remove()"
   ]
  },
  {
   "cell_type": "code",
   "execution_count": null,
   "metadata": {},
   "outputs": [],
   "source": []
  },
  {
   "attachments": {},
   "cell_type": "markdown",
   "metadata": {},
   "source": [
    "### log"
   ]
  },
  {
   "attachments": {},
   "cell_type": "markdown",
   "metadata": {},
   "source": [
    "#### log:conclusion()"
   ]
  },
  {
   "cell_type": "code",
   "execution_count": null,
   "metadata": {},
   "outputs": [],
   "source": []
  },
  {
   "attachments": {},
   "cell_type": "markdown",
   "metadata": {},
   "source": [
    "#### log:conjunction()"
   ]
  },
  {
   "cell_type": "code",
   "execution_count": null,
   "metadata": {},
   "outputs": [],
   "source": []
  },
  {
   "attachments": {},
   "cell_type": "markdown",
   "metadata": {},
   "source": [
    "#### log:content()"
   ]
  },
  {
   "cell_type": "code",
   "execution_count": null,
   "metadata": {},
   "outputs": [],
   "source": []
  },
  {
   "attachments": {},
   "cell_type": "markdown",
   "metadata": {},
   "source": [
    "#### log:dtlit()"
   ]
  },
  {
   "cell_type": "code",
   "execution_count": 484,
   "metadata": {},
   "outputs": [
    {
     "data": {
      "text/plain": [
       "[]"
      ]
     },
     "execution_count": 484,
     "metadata": {},
     "output_type": "execute_result"
    }
   ],
   "source": [
    "query = \"\"\"\n",
    "    select (datatype(?variable) as ?result)\n",
    "    where {\n",
    "        # bind(1 as ?variable)\n",
    "        # bind(1.0 as ?variable)\n",
    "        # bind(\"1\" as ?variable)\n",
    "        # bind(true as ?variable)\n",
    "        # bind(\"2022-12-16T14:45:13.815-05:00\"^^xsd:dateTime as ?variable)\n",
    "        # bind(<http://www.example.com>) as ?variable)        \n",
    "    }\n",
    "\"\"\"\n",
    "[row.result.toPython() for row in l.query(query)]"
   ]
  },
  {
   "attachments": {},
   "cell_type": "markdown",
   "metadata": {},
   "source": [
    "#### log:equalTo()"
   ]
  },
  {
   "cell_type": "code",
   "execution_count": 486,
   "metadata": {},
   "outputs": [
    {
     "data": {
      "text/plain": [
       "False"
      ]
     },
     "execution_count": 486,
     "metadata": {},
     "output_type": "execute_result"
    }
   ],
   "source": [
    "query = \"\"\"\n",
    "    select (sameTerm(?a,?b) as ?result)\n",
    "    where {\n",
    "        bind(<http://example.com> as ?a)\n",
    "        bind(<http://example.com> as ?b)\n",
    "\n",
    "    }\n",
    "\"\"\"\n",
    "[row.result.toPython() for row in l.query(query)][0]"
   ]
  },
  {
   "attachments": {},
   "cell_type": "markdown",
   "metadata": {},
   "source": [
    "#### log:includes()"
   ]
  },
  {
   "cell_type": "code",
   "execution_count": null,
   "metadata": {},
   "outputs": [],
   "source": []
  },
  {
   "attachments": {},
   "cell_type": "markdown",
   "metadata": {},
   "source": [
    "#### log:notEqualTo()"
   ]
  },
  {
   "cell_type": "code",
   "execution_count": 488,
   "metadata": {},
   "outputs": [
    {
     "data": {
      "text/plain": [
       "True"
      ]
     },
     "execution_count": 488,
     "metadata": {},
     "output_type": "execute_result"
    }
   ],
   "source": [
    "query = \"\"\"\n",
    "    select (!sameTerm(?a,?b) as ?result)\n",
    "    where {\n",
    "        bind(<http://example.com> as ?a)\n",
    "        bind(<http://eample.com> as ?b)\n",
    "\n",
    "    }\n",
    "\"\"\"\n",
    "[row.result.toPython() for row in l.query(query)][0]"
   ]
  },
  {
   "attachments": {},
   "cell_type": "markdown",
   "metadata": {},
   "source": [
    "#### log:notIncludes()"
   ]
  },
  {
   "cell_type": "code",
   "execution_count": null,
   "metadata": {},
   "outputs": [],
   "source": []
  },
  {
   "attachments": {},
   "cell_type": "markdown",
   "metadata": {},
   "source": [
    "#### log:outputString()"
   ]
  },
  {
   "cell_type": "code",
   "execution_count": null,
   "metadata": {},
   "outputs": [],
   "source": []
  },
  {
   "attachments": {},
   "cell_type": "markdown",
   "metadata": {},
   "source": [
    "#### log:parsedAsN3()"
   ]
  },
  {
   "cell_type": "code",
   "execution_count": null,
   "metadata": {},
   "outputs": [],
   "source": []
  },
  {
   "attachments": {},
   "cell_type": "markdown",
   "metadata": {},
   "source": [
    "#### log:rawType()"
   ]
  },
  {
   "cell_type": "code",
   "execution_count": 455,
   "metadata": {},
   "outputs": [
    {
     "data": {
      "text/plain": [
       "['http://www.w3.org/2001/XMLSchema#string']"
      ]
     },
     "execution_count": 455,
     "metadata": {},
     "output_type": "execute_result"
    }
   ],
   "source": [
    "query = \"\"\"\n",
    "    select (datatype(\"http://example.com\") as ?result)\n",
    "    where {}\n",
    "\"\"\"\n",
    "[row.result.toPython() for row in l.query(query)]\n",
    "# query = \"\"\"\n",
    "#     select (datatype(<http://example.com>) as ?result)\n",
    "#     where {}\n",
    "# \"\"\"\n",
    "# [row.result.toPython() for row in l.query(query)]"
   ]
  },
  {
   "attachments": {},
   "cell_type": "markdown",
   "metadata": {},
   "source": [
    "#### log:semantics()"
   ]
  },
  {
   "cell_type": "code",
   "execution_count": null,
   "metadata": {},
   "outputs": [],
   "source": []
  },
  {
   "attachments": {},
   "cell_type": "markdown",
   "metadata": {},
   "source": [
    "#### log:semanticsOrError()"
   ]
  },
  {
   "cell_type": "code",
   "execution_count": null,
   "metadata": {},
   "outputs": [],
   "source": []
  },
  {
   "attachments": {},
   "cell_type": "markdown",
   "metadata": {},
   "source": [
    "#### log:uri()"
   ]
  },
  {
   "cell_type": "code",
   "execution_count": 11,
   "metadata": {},
   "outputs": [
    {
     "data": {
      "text/plain": [
       "'http://example.com'"
      ]
     },
     "execution_count": 11,
     "metadata": {},
     "output_type": "execute_result"
    }
   ],
   "source": [
    "query = \"\"\"\n",
    "    select (str(<http://example.com>) as ?result)\n",
    "    where {}\n",
    "\"\"\"\n",
    "[row.result.toPython() for row in l.query(query)][0]"
   ]
  },
  {
   "attachments": {},
   "cell_type": "markdown",
   "metadata": {},
   "source": [
    "### math\n",
    "\n",
    "https://github.com/w3c/sparql-12/wiki/Extending-the-lists-of-expected-functions-taken-from-new-versions-of-XPath-and-XQuery"
   ]
  },
  {
   "attachments": {},
   "cell_type": "markdown",
   "metadata": {},
   "source": [
    "#### math:absoluteValue()"
   ]
  },
  {
   "cell_type": "code",
   "execution_count": 196,
   "metadata": {},
   "outputs": [
    {
     "data": {
      "text/plain": [
       "[Decimal('4.35')]"
      ]
     },
     "execution_count": 196,
     "metadata": {},
     "output_type": "execute_result"
    }
   ],
   "source": [
    "query = \"\"\"\n",
    "    select (abs(4.35) as ?value )\n",
    "    where {}   \n",
    "\"\"\"\n",
    "[row.value.toPython() for row in l.query(query)]"
   ]
  },
  {
   "attachments": {},
   "cell_type": "markdown",
   "metadata": {},
   "source": [
    "#### math:cos()"
   ]
  },
  {
   "cell_type": "code",
   "execution_count": null,
   "metadata": {},
   "outputs": [],
   "source": []
  },
  {
   "attachments": {},
   "cell_type": "markdown",
   "metadata": {},
   "source": [
    "#### math:degrees()"
   ]
  },
  {
   "cell_type": "code",
   "execution_count": null,
   "metadata": {},
   "outputs": [],
   "source": []
  },
  {
   "attachments": {},
   "cell_type": "markdown",
   "metadata": {},
   "source": [
    "#### math:difference()"
   ]
  },
  {
   "cell_type": "code",
   "execution_count": null,
   "metadata": {},
   "outputs": [],
   "source": []
  },
  {
   "attachments": {},
   "cell_type": "markdown",
   "metadata": {},
   "source": [
    "#### math:exponentation()"
   ]
  },
  {
   "cell_type": "code",
   "execution_count": 8,
   "metadata": {},
   "outputs": [
    {
     "data": {
      "text/plain": [
       "[Decimal('3375')]"
      ]
     },
     "execution_count": 8,
     "metadata": {},
     "output_type": "execute_result"
    }
   ],
   "source": [
    "query = \"\"\"\n",
    "select (?a*?a*?a as ?value)\n",
    "where {\n",
    "    bind(15 as ?a)\n",
    "}\n",
    "\"\"\"\n",
    "[row.value.toPython() for row in l.query(query)]"
   ]
  },
  {
   "attachments": {},
   "cell_type": "markdown",
   "metadata": {},
   "source": [
    "#### math:negation()"
   ]
  },
  {
   "cell_type": "code",
   "execution_count": 4,
   "metadata": {},
   "outputs": [
    {
     "data": {
      "text/plain": [
       "[-15]"
      ]
     },
     "execution_count": 4,
     "metadata": {},
     "output_type": "execute_result"
    }
   ],
   "source": [
    "query = \"\"\"\n",
    "select (-?a as ?value)\n",
    "where {\n",
    "    bind(15 as ?a)\n",
    "}\n",
    "\"\"\"\n",
    "[row.value.toPython() for row in l.query(query)]"
   ]
  },
  {
   "attachments": {},
   "cell_type": "markdown",
   "metadata": {},
   "source": [
    "#### math:product()\n",
    "\n",
    "haven't found an easy way to create a product from recursing a list of numbers"
   ]
  },
  {
   "cell_type": "code",
   "execution_count": null,
   "metadata": {},
   "outputs": [],
   "source": [
    "query = \"\"\"\n",
    "select ?product\n",
    "where {\n",
    "    :myList :contents ?list.\n",
    "    ?list rdf:rest*/rdf:first ?member .\n",
    "    bind (1 as ?product)\n",
    "    bind(?product*?member as ?product)\n",
    "    }\n",
    "   \n",
    "\"\"\"\n",
    "[row for row in m.query(query)]"
   ]
  },
  {
   "attachments": {},
   "cell_type": "markdown",
   "metadata": {},
   "source": [
    "#### math:quotient()"
   ]
  },
  {
   "cell_type": "code",
   "execution_count": 5,
   "metadata": {},
   "outputs": [
    {
     "data": {
      "text/plain": [
       "[Decimal('7.5')]"
      ]
     },
     "execution_count": 5,
     "metadata": {},
     "output_type": "execute_result"
    }
   ],
   "source": [
    "query = \"\"\"\n",
    "select (?a/?b as ?value)\n",
    "where {\n",
    "    bind(15 as ?a)\n",
    "    bind(2 as ?b)\n",
    "}\n",
    "\"\"\"\n",
    "[row.value.toPython() for row in l.query(query)]"
   ]
  },
  {
   "attachments": {},
   "cell_type": "markdown",
   "metadata": {},
   "source": [
    "#### math:remainder()"
   ]
  },
  {
   "cell_type": "code",
   "execution_count": 471,
   "metadata": {},
   "outputs": [
    {
     "data": {
      "text/plain": [
       "[Decimal('7.5')]"
      ]
     },
     "execution_count": 471,
     "metadata": {},
     "output_type": "execute_result"
    }
   ],
   "source": [
    "query = \"\"\"\n",
    "select (abs(?a/?b) as ?value)\n",
    "where {\n",
    "    bind(15 as ?a)\n",
    "    bind(2 as ?b)\n",
    "}\n",
    "\"\"\"\n",
    "[row.value.toPython() for row in l.query(query)]"
   ]
  },
  {
   "attachments": {},
   "cell_type": "markdown",
   "metadata": {},
   "source": [
    "#### math:rounded()"
   ]
  },
  {
   "cell_type": "code",
   "execution_count": 174,
   "metadata": {},
   "outputs": [
    {
     "data": {
      "text/plain": [
       "[4]"
      ]
     },
     "execution_count": 174,
     "metadata": {},
     "output_type": "execute_result"
    }
   ],
   "source": [
    "query = \"\"\"\n",
    "    select (round(4.35) as ?value )\n",
    "    where {}   \n",
    "\"\"\"\n",
    "[row.value.toPython() for row in l.query(query)]"
   ]
  },
  {
   "attachments": {},
   "cell_type": "markdown",
   "metadata": {},
   "source": [
    "#### math:sin()"
   ]
  },
  {
   "cell_type": "code",
   "execution_count": null,
   "metadata": {},
   "outputs": [],
   "source": []
  },
  {
   "attachments": {},
   "cell_type": "markdown",
   "metadata": {},
   "source": [
    "#### math:sinh()"
   ]
  },
  {
   "cell_type": "code",
   "execution_count": null,
   "metadata": {},
   "outputs": [],
   "source": []
  },
  {
   "attachments": {},
   "cell_type": "markdown",
   "metadata": {},
   "source": [
    "#### math:sum()"
   ]
  },
  {
   "cell_type": "code",
   "execution_count": 209,
   "metadata": {},
   "outputs": [
    {
     "data": {
      "text/plain": [
       "[15]"
      ]
     },
     "execution_count": 209,
     "metadata": {},
     "output_type": "execute_result"
    }
   ],
   "source": [
    "query = \"\"\"\n",
    "select (sum(?p) as ?value)\n",
    "where\n",
    "{ values ?p { 1 2 3 4 5 } }\n",
    "\"\"\"\n",
    "[row.value.toPython() for row in l.query(query)]"
   ]
  },
  {
   "attachments": {},
   "cell_type": "markdown",
   "metadata": {},
   "source": [
    "#### math:tan()"
   ]
  },
  {
   "cell_type": "code",
   "execution_count": null,
   "metadata": {},
   "outputs": [],
   "source": []
  },
  {
   "attachments": {},
   "cell_type": "markdown",
   "metadata": {},
   "source": [
    "#### math:tanh()"
   ]
  },
  {
   "cell_type": "code",
   "execution_count": null,
   "metadata": {},
   "outputs": [],
   "source": []
  },
  {
   "attachments": {},
   "cell_type": "markdown",
   "metadata": {},
   "source": [
    "### string"
   ]
  },
  {
   "attachments": {},
   "cell_type": "markdown",
   "metadata": {},
   "source": [
    "#### string:concatenation()"
   ]
  },
  {
   "cell_type": "code",
   "execution_count": 474,
   "metadata": {},
   "outputs": [
    {
     "data": {
      "text/plain": [
       "'Hello World'"
      ]
     },
     "execution_count": 474,
     "metadata": {},
     "output_type": "execute_result"
    }
   ],
   "source": [
    "query = \"\"\"\n",
    "    SELECT (concat(\"Hello\", \" \", \"World\") as ?result)\n",
    "    WHERE {}\n",
    "\"\"\"\n",
    "[row.result.toPython() for row in l.query(query)][0]"
   ]
  },
  {
   "attachments": {},
   "cell_type": "markdown",
   "metadata": {},
   "source": [
    "#### string:contains()"
   ]
  },
  {
   "cell_type": "code",
   "execution_count": 445,
   "metadata": {},
   "outputs": [
    {
     "data": {
      "text/plain": [
       "False"
      ]
     },
     "execution_count": 445,
     "metadata": {},
     "output_type": "execute_result"
    }
   ],
   "source": [
    "query = \"\"\"\n",
    "    select (contains('http://example.com', \".com\") as ?result) \n",
    "    where {}\n",
    "\"\"\"\n",
    "[row.result.toPython() for row in l.query(query)][0]"
   ]
  },
  {
   "attachments": {},
   "cell_type": "markdown",
   "metadata": {},
   "source": [
    "#### string:containsIgnoringCase()"
   ]
  },
  {
   "cell_type": "code",
   "execution_count": 378,
   "metadata": {},
   "outputs": [
    {
     "data": {
      "text/plain": [
       "False"
      ]
     },
     "execution_count": 378,
     "metadata": {},
     "output_type": "execute_result"
    }
   ],
   "source": [
    "query = \"\"\"\n",
    "    select (contains(lcase('http://example.com'), lcase(\".com\")) as ?result) \n",
    "    where {}\n",
    "\"\"\"\n",
    "[row.result.toPython() for row in l.query(query)][0]"
   ]
  },
  {
   "attachments": {},
   "cell_type": "markdown",
   "metadata": {},
   "source": [
    "#### string:endsWith()"
   ]
  },
  {
   "cell_type": "code",
   "execution_count": 379,
   "metadata": {},
   "outputs": [
    {
     "data": {
      "text/plain": [
       "True"
      ]
     },
     "execution_count": 379,
     "metadata": {},
     "output_type": "execute_result"
    }
   ],
   "source": [
    "query = \"\"\"\n",
    "    select (strends(lcase('http://example.com'), lcase(\".com\")) as ?result) \n",
    "    where {}\n",
    "\"\"\"\n",
    "[row.result.toPython() for row in l.query(query)][0]"
   ]
  },
  {
   "attachments": {},
   "cell_type": "markdown",
   "metadata": {},
   "source": [
    "#### string:equalIgnoringCase()"
   ]
  },
  {
   "cell_type": "code",
   "execution_count": 419,
   "metadata": {},
   "outputs": [
    {
     "data": {
      "text/plain": [
       "False"
      ]
     },
     "execution_count": 419,
     "metadata": {},
     "output_type": "execute_result"
    }
   ],
   "source": [
    "query = \"\"\"\n",
    "    select ((lcase('http://example.com') = lcase(\".com\")) as ?result) \n",
    "    where {}\n",
    "\"\"\"\n",
    "[row.result.toPython() for row in l.query(query)][0]"
   ]
  },
  {
   "attachments": {},
   "cell_type": "markdown",
   "metadata": {},
   "source": [
    "#### string:greaterThan()"
   ]
  },
  {
   "cell_type": "code",
   "execution_count": null,
   "metadata": {},
   "outputs": [],
   "source": [
    "# query = \"\"\"\n",
    "#     #select ((\"two\">\"one\") as ?result) \n",
    "#     select ((\"three\">\"two\") as ?result) \n",
    "#     where {}\n",
    "# \"\"\"\n",
    "# [row.result.toPython() for row in l.query(query)][0]"
   ]
  },
  {
   "attachments": {},
   "cell_type": "markdown",
   "metadata": {},
   "source": [
    "#### string:length()"
   ]
  },
  {
   "cell_type": "code",
   "execution_count": 5,
   "metadata": {},
   "outputs": [
    {
     "data": {
      "text/plain": [
       "3"
      ]
     },
     "execution_count": 5,
     "metadata": {},
     "output_type": "execute_result"
    }
   ],
   "source": [
    "query = \"\"\"\n",
    "    select (strlen(\"two\") as ?result) \n",
    "    where {}\n",
    "\"\"\"\n",
    "[row.result.toPython() for row in l.query(query)][0]"
   ]
  },
  {
   "attachments": {},
   "cell_type": "markdown",
   "metadata": {},
   "source": [
    "#### string:lessThan()"
   ]
  },
  {
   "cell_type": "code",
   "execution_count": 422,
   "metadata": {},
   "outputs": [
    {
     "data": {
      "text/plain": [
       "False"
      ]
     },
     "execution_count": 422,
     "metadata": {},
     "output_type": "execute_result"
    }
   ],
   "source": [
    "# query = \"\"\"\n",
    "#     select ((\"two\"<\"one\") as ?result) \n",
    "#     #select ((\"one\"<\"two\") as ?result) \n",
    "#     where {}\n",
    "# \"\"\"\n",
    "# [row.result.toPython() for row in l.query(query)][0]"
   ]
  },
  {
   "attachments": {},
   "cell_type": "markdown",
   "metadata": {},
   "source": [
    "#### string:matches()"
   ]
  },
  {
   "cell_type": "code",
   "execution_count": 396,
   "metadata": {},
   "outputs": [
    {
     "data": {
      "text/plain": [
       "False"
      ]
     },
     "execution_count": 396,
     "metadata": {},
     "output_type": "execute_result"
    }
   ],
   "source": [
    "query = \"\"\"\n",
    "    select (regex(\"http://example.com\", \"^http://$\") as ?result)\n",
    "    where {}\n",
    "\"\"\"\n",
    "[row.result.toPython() for row in l.query(query)][0]"
   ]
  },
  {
   "attachments": {},
   "cell_type": "markdown",
   "metadata": {},
   "source": [
    "#### string:notEqualIgnoringCase()"
   ]
  },
  {
   "cell_type": "code",
   "execution_count": 10,
   "metadata": {},
   "outputs": [
    {
     "data": {
      "text/plain": [
       "False"
      ]
     },
     "execution_count": 10,
     "metadata": {},
     "output_type": "execute_result"
    }
   ],
   "source": [
    "query = \"\"\"\n",
    "    select (!(lcase(\".com\") = lcase(\".com\")) as ?result) \n",
    "    where {}\n",
    "\"\"\"\n",
    "[row.result.toPython() for row in l.query(query)][0]"
   ]
  },
  {
   "attachments": {},
   "cell_type": "markdown",
   "metadata": {},
   "source": [
    "#### string:notGreaterThan()"
   ]
  },
  {
   "cell_type": "code",
   "execution_count": 428,
   "metadata": {},
   "outputs": [
    {
     "data": {
      "text/plain": [
       "False"
      ]
     },
     "execution_count": 428,
     "metadata": {},
     "output_type": "execute_result"
    }
   ],
   "source": [
    "# query = \"\"\"\n",
    "#     select ((\"sillyme\"<\"one\") as ?result) \n",
    "#     #select ((\"one\"<\"two\") as ?result) \n",
    "#     where {}\n",
    "# \"\"\"\n",
    "# [row.result.toPython() for row in l.query(query)][0]"
   ]
  },
  {
   "attachments": {},
   "cell_type": "markdown",
   "metadata": {},
   "source": [
    "#### string:notLessThan()"
   ]
  },
  {
   "cell_type": "code",
   "execution_count": 434,
   "metadata": {},
   "outputs": [
    {
     "data": {
      "text/plain": [
       "True"
      ]
     },
     "execution_count": 434,
     "metadata": {},
     "output_type": "execute_result"
    }
   ],
   "source": [
    "# query = \"\"\"\n",
    "#     #select (!(\"two\">\"one\") as ?result) \n",
    "#     select (!(\"three\">\"two\") as ?result) \n",
    "#     where {}\n",
    "# \"\"\"\n",
    "# [row.result.toPython() for row in l.query(query)][0]"
   ]
  },
  {
   "attachments": {},
   "cell_type": "markdown",
   "metadata": {},
   "source": [
    "#### string:notMatches()"
   ]
  },
  {
   "cell_type": "code",
   "execution_count": 439,
   "metadata": {},
   "outputs": [
    {
     "data": {
      "text/plain": [
       "True"
      ]
     },
     "execution_count": 439,
     "metadata": {},
     "output_type": "execute_result"
    }
   ],
   "source": [
    "query = \"\"\"\n",
    "    select (!regex(\"http://example.com\", \"^http://$\") as ?result)\n",
    "    where {}\n",
    "\"\"\"\n",
    "[row.result.toPython() for row in l.query(query)][0]"
   ]
  },
  {
   "attachments": {},
   "cell_type": "markdown",
   "metadata": {},
   "source": [
    "#### string:replace()"
   ]
  },
  {
   "cell_type": "code",
   "execution_count": 16,
   "metadata": {},
   "outputs": [
    {
     "data": {
      "text/plain": [
       "'urn://example.com'"
      ]
     },
     "execution_count": 16,
     "metadata": {},
     "output_type": "execute_result"
    }
   ],
   "source": [
    "query = \"\"\"\n",
    "    select (replace('http://example.com', 'http:' ,'urn:') as ?result) \n",
    "    where {}\n",
    "\"\"\"\n",
    "[row.result.toPython() for row in l.query(query)][0]"
   ]
  },
  {
   "attachments": {},
   "cell_type": "markdown",
   "metadata": {},
   "source": [
    "#### string:scrape()\n",
    "\n",
    "https://stackoverflow.com/questions/51652831/how-to-extract-a-substring-using-a-regular-expression"
   ]
  },
  {
   "cell_type": "code",
   "execution_count": null,
   "metadata": {},
   "outputs": [],
   "source": [
    "# this works in Sparql Playground but not in Python RDFLib\n",
    "# https://sparql-playground.sib.swiss/?query=%20%20%20%20select%20(replace(%27some%20interesting%20%7Bfoo123:bar_675:get_me.xyz%7D%20string%27,%20%22%5E.*%5C%5C%7B.*:(.*)%5C%5C%7D.*$%22,%20%22$1%22)%20as%20%3Fresult)%20%0A%20%20%20%20where%20%7B%7D&output=html\n",
    "query = \"\"\"\n",
    "    select (replace('some interesting {foo123:bar_675:get_me.xyz} string', \"^.*\\\\{.*:(.*)\\\\}.*$\", \"$1\") as ?result) \n",
    "    where {}\n",
    "\"\"\"\n",
    "[row.result.toPython() for row in l.query(query)][0]"
   ]
  },
  {
   "attachments": {},
   "cell_type": "markdown",
   "metadata": {},
   "source": [
    "#### string:startsWith()"
   ]
  },
  {
   "cell_type": "code",
   "execution_count": 17,
   "metadata": {},
   "outputs": [
    {
     "data": {
      "text/plain": [
       "False"
      ]
     },
     "execution_count": 17,
     "metadata": {},
     "output_type": "execute_result"
    }
   ],
   "source": [
    "query = \"\"\"\n",
    "    select (strstarts(lcase('http://example.com'), lcase(\"htp:\")) as ?result) \n",
    "    where {}\n",
    "\"\"\"\n",
    "[row.result.toPython() for row in l.query(query)][0]\n"
   ]
  },
  {
   "attachments": {},
   "cell_type": "markdown",
   "metadata": {},
   "source": [
    "### time"
   ]
  },
  {
   "attachments": {},
   "cell_type": "markdown",
   "metadata": {},
   "source": [
    "#### time:day()"
   ]
  },
  {
   "cell_type": "code",
   "execution_count": 350,
   "metadata": {},
   "outputs": [
    {
     "data": {
      "text/plain": [
       "[16]"
      ]
     },
     "execution_count": 350,
     "metadata": {},
     "output_type": "execute_result"
    }
   ],
   "source": [
    "query = \"\"\"\n",
    "select (day(\"2022-12-16T14:45:13.815-05:00\"^^xsd:dateTime) as ?value)\n",
    "where {}\n",
    "\"\"\"\n",
    "[row.value.toPython() for row in l.query(query)]"
   ]
  },
  {
   "attachments": {},
   "cell_type": "markdown",
   "metadata": {},
   "source": [
    "#### time:month()"
   ]
  },
  {
   "cell_type": "code",
   "execution_count": 352,
   "metadata": {},
   "outputs": [
    {
     "data": {
      "text/plain": [
       "[12]"
      ]
     },
     "execution_count": 352,
     "metadata": {},
     "output_type": "execute_result"
    }
   ],
   "source": [
    "query = \"\"\"\n",
    "select (month(\"2022-12-16T14:45:13.815-05:00\"^^xsd:dateTime) as ?value)\n",
    "where {}\n",
    "\"\"\"\n",
    "[row.value.toPython() for row in l.query(query)]"
   ]
  },
  {
   "attachments": {},
   "cell_type": "markdown",
   "metadata": {},
   "source": [
    "#### time:year()"
   ]
  },
  {
   "cell_type": "code",
   "execution_count": 351,
   "metadata": {},
   "outputs": [
    {
     "data": {
      "text/plain": [
       "[2022]"
      ]
     },
     "execution_count": 351,
     "metadata": {},
     "output_type": "execute_result"
    }
   ],
   "source": [
    "query = \"\"\"\n",
    "select (year(\"2022-12-16T14:45:13.815-05:00\"^^xsd:dateTime) as ?value)\n",
    "where {}\n",
    "\"\"\"\n",
    "[row.value.toPython() for row in l.query(query)]"
   ]
  },
  {
   "attachments": {},
   "cell_type": "markdown",
   "metadata": {},
   "source": [
    "### time:hours()"
   ]
  },
  {
   "cell_type": "code",
   "execution_count": 6,
   "metadata": {},
   "outputs": [
    {
     "data": {
      "text/plain": [
       "[14]"
      ]
     },
     "execution_count": 6,
     "metadata": {},
     "output_type": "execute_result"
    }
   ],
   "source": [
    "query = \"\"\"\n",
    "select (hours(\"2022-12-16T14:45:13.815-05:00\"^^xsd:dateTime) as ?value)\n",
    "where {}\n",
    "\"\"\"\n",
    "[row.value.toPython() for row in l.query(query)]"
   ]
  },
  {
   "attachments": {},
   "cell_type": "markdown",
   "metadata": {},
   "source": [
    "### time:minutes()"
   ]
  },
  {
   "cell_type": "code",
   "execution_count": 7,
   "metadata": {},
   "outputs": [
    {
     "data": {
      "text/plain": [
       "[45]"
      ]
     },
     "execution_count": 7,
     "metadata": {},
     "output_type": "execute_result"
    }
   ],
   "source": [
    "query = \"\"\"\n",
    "select (minutes(\"2022-12-16T14:45:13.815-05:00\"^^xsd:dateTime) as ?value)\n",
    "where {}\n",
    "\"\"\"\n",
    "[row.value.toPython() for row in l.query(query)]"
   ]
  },
  {
   "attachments": {},
   "cell_type": "markdown",
   "metadata": {},
   "source": [
    "### time:seconds()"
   ]
  },
  {
   "cell_type": "code",
   "execution_count": 8,
   "metadata": {},
   "outputs": [
    {
     "data": {
      "text/plain": [
       "[13]"
      ]
     },
     "execution_count": 8,
     "metadata": {},
     "output_type": "execute_result"
    }
   ],
   "source": [
    "query = \"\"\"\n",
    "select (seconds(\"2022-12-16T14:45:13.815-05:00\"^^xsd:dateTime) as ?value)\n",
    "where {}\n",
    "\"\"\"\n",
    "[row.value.toPython() for row in l.query(query)]"
   ]
  },
  {
   "attachments": {},
   "cell_type": "markdown",
   "metadata": {},
   "source": [
    "### time:timeZone()"
   ]
  },
  {
   "cell_type": "code",
   "execution_count": 13,
   "metadata": {},
   "outputs": [
    {
     "data": {
      "text/plain": [
       "['-05:00']"
      ]
     },
     "execution_count": 13,
     "metadata": {},
     "output_type": "execute_result"
    }
   ],
   "source": [
    "query = \"\"\"\n",
    "select (tz(\"2022-12-16T14:45:13.815-05:00Z\"^^xsd:dateTime) as ?value)\n",
    "where {}\n",
    "\"\"\"\n",
    "[row.value.toPython() for row in l.query(query)]"
   ]
  }
 ],
 "metadata": {
  "kernelspec": {
   "display_name": "Python 3",
   "language": "python",
   "name": "python3"
  },
  "language_info": {
   "codemirror_mode": {
    "name": "ipython",
    "version": 3
   },
   "file_extension": ".py",
   "mimetype": "text/x-python",
   "name": "python",
   "nbconvert_exporter": "python",
   "pygments_lexer": "ipython3",
   "version": "3.9.6 (v3.9.6:db3ff76da1, Jun 28 2021, 11:14:58) \n[Clang 12.0.5 (clang-1205.0.22.9)]"
  },
  "orig_nbformat": 4,
  "vscode": {
   "interpreter": {
    "hash": "7812ea015bdcee6f23a998adcdd2ef97c151c0c241b7b7070987d9313e41299d"
   }
  }
 },
 "nbformat": 4,
 "nbformat_minor": 2
}
