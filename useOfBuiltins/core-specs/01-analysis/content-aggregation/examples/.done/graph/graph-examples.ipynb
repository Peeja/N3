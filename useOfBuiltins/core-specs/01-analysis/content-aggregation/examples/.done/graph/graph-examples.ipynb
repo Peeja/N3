{
 "cells": [
  {
   "cell_type": "code",
   "execution_count": 1,
   "metadata": {},
   "outputs": [],
   "source": [
    "from rdflib import Graph, URIRef, Literal, Namespace"
   ]
  },
  {
   "cell_type": "code",
   "execution_count": 2,
   "metadata": {},
   "outputs": [],
   "source": [
    "phochste_uri = 'https://raw.githubusercontent.com/phochste/Notation3-By-Example/main/graph/'\n",
    "sources = [\n",
    "            f\"{phochste_uri}difference.n3\",\n",
    "            f\"{phochste_uri}length.n3\",\n",
    "            f\"{phochste_uri}list.n3\",\n",
    "            f\"{phochste_uri}member.n3\",                                    \n",
    "           ]"
   ]
  },
  {
   "cell_type": "code",
   "execution_count": null,
   "metadata": {},
   "outputs": [],
   "source": [
    "g = Graph()\n",
    "\n",
    "for source in sources:\n",
    "    g += Graph().parse(source, format='n3')\n",
    "    \n",
    "g.print()"
   ]
  }
 ],
 "metadata": {
  "kernelspec": {
   "display_name": "Python 3.9.6 64-bit",
   "language": "python",
   "name": "python3"
  },
  "language_info": {
   "codemirror_mode": {
    "name": "ipython",
    "version": 3
   },
   "file_extension": ".py",
   "mimetype": "text/x-python",
   "name": "python",
   "nbconvert_exporter": "python",
   "pygments_lexer": "ipython3",
   "version": "3.9.6"
  },
  "orig_nbformat": 4,
  "vscode": {
   "interpreter": {
    "hash": "31f2aee4e71d21fbe5cf8b01ff0e069b9275f58929596ceb00d14d90e3e16cd6"
   }
  }
 },
 "nbformat": 4,
 "nbformat_minor": 2
}
