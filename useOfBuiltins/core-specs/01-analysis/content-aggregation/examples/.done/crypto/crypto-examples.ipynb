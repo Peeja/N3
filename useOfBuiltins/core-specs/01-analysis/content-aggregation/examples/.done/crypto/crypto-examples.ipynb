{
 "cells": [
  {
   "cell_type": "code",
   "execution_count": 1,
   "metadata": {},
   "outputs": [],
   "source": [
    "from rdflib import Graph, URIRef, Literal, Namespace"
   ]
  },
  {
   "cell_type": "code",
   "execution_count": 2,
   "metadata": {},
   "outputs": [],
   "source": [
    "phochste_uri = 'https://raw.githubusercontent.com/phochste/Notation3-By-Example/main/crypto/'\n",
    "sources = [\n",
    "            f\"{phochste_uri}md5.n3\",\n",
    "            f\"{phochste_uri}sha.n3\",\n",
    "            f\"{phochste_uri}sha256.n3\",\n",
    "            f\"{phochste_uri}sha512.n3\",                                    \n",
    "           ]"
   ]
  },
  {
   "cell_type": "code",
   "execution_count": 3,
   "metadata": {},
   "outputs": [
    {
     "name": "stdout",
     "output_type": "stream",
     "text": [
      "@prefix ns1: <http://www.w3.org/2000/10/swap/log#> .\n",
      "@prefix ns2: <urn:example:> .\n",
      "\n",
      "{_:_:Formula12} ns1:implies {_:_:Formula13} .\n",
      "\n",
      "{_:_:Formula14} ns1:implies {_:_:Formula15} .\n",
      "\n",
      "{_:_:Formula17} ns1:implies {_:_:Formula18} .\n",
      "\n",
      "{_:_:Formula19} ns1:implies {_:_:Formula20} .\n",
      "\n",
      "{_:_:Formula7} ns1:implies {_:_:Formula8} .\n",
      "\n",
      "ns2:Let ns2:param \"hello world\" .\n",
      "\n",
      "{_:_:Formula2} ns1:implies {_:_:Formula3} .\n",
      "\n",
      "{_:_:Formula4} ns1:implies {_:_:Formula5} .\n",
      "\n",
      "{_:_:Formula9} ns1:implies {_:_:Formula10} .\n",
      "\n",
      "\n"
     ]
    }
   ],
   "source": [
    "g = Graph()\n",
    "\n",
    "for source in sources:\n",
    "    g += Graph().parse(source, format='n3')\n",
    "    \n",
    "g.print()"
   ]
  }
 ],
 "metadata": {
  "kernelspec": {
   "display_name": "Python 3.9.6 64-bit",
   "language": "python",
   "name": "python3"
  },
  "language_info": {
   "codemirror_mode": {
    "name": "ipython",
    "version": 3
   },
   "file_extension": ".py",
   "mimetype": "text/x-python",
   "name": "python",
   "nbconvert_exporter": "python",
   "pygments_lexer": "ipython3",
   "version": "3.9.6"
  },
  "orig_nbformat": 4,
  "vscode": {
   "interpreter": {
    "hash": "31f2aee4e71d21fbe5cf8b01ff0e069b9275f58929596ceb00d14d90e3e16cd6"
   }
  }
 },
 "nbformat": 4,
 "nbformat_minor": 2
}
