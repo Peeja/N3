{
 "cells": [
  {
   "cell_type": "code",
   "execution_count": 2,
   "metadata": {},
   "outputs": [],
   "source": [
    "from rdflib import Graph, URIRef"
   ]
  },
  {
   "cell_type": "code",
   "execution_count": 3,
   "metadata": {},
   "outputs": [],
   "source": [
    "w3c_uri ='https://raw.githubusercontent.com/w3c/N3/master/tests/N3Tests/cwm_string/'\n",
    "\n",
    "phochste_uri = 'https://github.com/phochste/Notation3-By-Example/raw/main/string/'\n",
    "\n",
    "sources = [\n",
    "            f\"{phochste_uri}capitalize.n3\",\n",
    "            f\"{phochste_uri}concatenation.n3\",\n",
    "            f\"{phochste_uri}contains.n3\",\n",
    "            f\"{phochste_uri}containsIgnoringCase.n3\",\n",
    "            f\"{phochste_uri}containsRoughly.n3\",\n",
    "            f\"{phochste_uri}endWith.n3\",\n",
    "            f\"{phochste_uri}equalIgnoringCase.n3\",\n",
    "            f\"{phochste_uri}format.n3\",\n",
    "            f\"{phochste_uri}greaterThan.n3\",\n",
    "            f\"{phochste_uri}join.n3\",\n",
    "            f\"{phochste_uri}length.n3\",\n",
    "            f\"{phochste_uri}lessThan.n3\",\n",
    "            f\"{phochste_uri}lowerCase.n3\",\n",
    "            f\"{phochste_uri}matches.n3\",\n",
    "            f\"{phochste_uri}notContainsRoughly.n3\",\n",
    "            f\"{phochste_uri}notEqualIgnorningCase.n3\",\n",
    "            f\"{phochste_uri}notGreaterThan.n3\",\n",
    "            f\"{phochste_uri}notLessThan.n3\",\n",
    "            f\"{phochste_uri}notMatches.n3\",\n",
    "            f\"{phochste_uri}replace.n3\",\n",
    "            f\"{phochste_uri}replaceAll.n3\",\n",
    "            f\"{phochste_uri}scrape.n3\",\n",
    "            f\"{phochste_uri}scrapeAll.n3\",\n",
    "            f\"{phochste_uri}startsWith.n3\",\n",
    "            f\"{phochste_uri}substring.n3\",\n",
    "            f\"{phochste_uri}uppercase.n3\",   \n",
    "            \"eye-string-examples.n3\",\n",
    "           ]"
   ]
  },
  {
   "cell_type": "code",
   "execution_count": null,
   "metadata": {},
   "outputs": [],
   "source": [
    "import urllib.request as request\n",
    "\n",
    "data = request.urlopen(f\"{phochste_uri}concatenation.n3\")\n",
    "print(data.read().decode('utf-8'))"
   ]
  },
  {
   "cell_type": "markdown",
   "metadata": {},
   "source": []
  },
  {
   "cell_type": "code",
   "execution_count": null,
   "metadata": {},
   "outputs": [],
   "source": [
    "g = Graph()\n",
    "g.bind('string', URIRef('http://www.w3.org/2000/10/swap/string#'))\n",
    "\n",
    "for source in sources:\n",
    "    g += Graph().parse(source, format='n3')\n",
    "    \n",
    "g.print()"
   ]
  },
  {
   "cell_type": "code",
   "execution_count": null,
   "metadata": {},
   "outputs": [],
   "source": [
    "query = \"\"\"\n",
    "\n",
    "    select ?s \n",
    "    where {\n",
    "        ?s ?p ?o .\n",
    "        filter(!isBlank(?s))\n",
    "        }\n",
    "\n",
    "\"\"\"\n",
    "[row.s for row in g.query(query)]\n",
    "\n"
   ]
  }
 ],
 "metadata": {
  "kernelspec": {
   "display_name": "Python 3.9.6 64-bit",
   "language": "python",
   "name": "python3"
  },
  "language_info": {
   "codemirror_mode": {
    "name": "ipython",
    "version": 3
   },
   "file_extension": ".py",
   "mimetype": "text/x-python",
   "name": "python",
   "nbconvert_exporter": "python",
   "pygments_lexer": "ipython3",
   "version": "3.9.6"
  },
  "orig_nbformat": 4,
  "vscode": {
   "interpreter": {
    "hash": "31f2aee4e71d21fbe5cf8b01ff0e069b9275f58929596ceb00d14d90e3e16cd6"
   }
  }
 },
 "nbformat": 4,
 "nbformat_minor": 2
}
