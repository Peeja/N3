{
 "cells": [
  {
   "cell_type": "code",
   "execution_count": 1,
   "metadata": {},
   "outputs": [],
   "source": [
    "from rdflib import Graph, URIRef"
   ]
  },
  {
   "cell_type": "code",
   "execution_count": 2,
   "metadata": {},
   "outputs": [],
   "source": [
    "w3c_uri ='https://github.com/w3c/N3/raw/master/tests/N3Tests/cwm_list/'\n",
    "phochste_uri = 'https://raw.githubusercontent.com/phochste/Notation3-By-Example/main/time/'\n",
    "\n",
    "sources = [\n",
    "\n",
    "           \"eye-time-examples.n3\"              \n",
    "           ]"
   ]
  },
  {
   "cell_type": "code",
   "execution_count": 3,
   "metadata": {},
   "outputs": [
    {
     "name": "stdout",
     "output_type": "stream",
     "text": [
      "@prefix ns1: <http://www.w3.org/2000/10/swap/log#> .\n",
      "\n",
      "{_:_:Formula2} ns1:implies {_:_:Formula3} .\n",
      "\n",
      "{_:_:Formula4} ns1:implies {_:_:Formula5} .\n",
      "\n",
      "{_:_:Formula6} ns1:implies {_:_:Formula7} .\n",
      "\n",
      "\n"
     ]
    }
   ],
   "source": [
    "g = Graph()\n",
    "\n",
    "for source in sources:\n",
    "    g += Graph().parse(source, format='n3')\n",
    "    \n",
    "g.print()"
   ]
  }
 ],
 "metadata": {
  "kernelspec": {
   "display_name": "Python 3.9.6 64-bit",
   "language": "python",
   "name": "python3"
  },
  "language_info": {
   "codemirror_mode": {
    "name": "ipython",
    "version": 3
   },
   "file_extension": ".py",
   "mimetype": "text/x-python",
   "name": "python",
   "nbconvert_exporter": "python",
   "pygments_lexer": "ipython3",
   "version": "3.9.6"
  },
  "orig_nbformat": 4,
  "vscode": {
   "interpreter": {
    "hash": "31f2aee4e71d21fbe5cf8b01ff0e069b9275f58929596ceb00d14d90e3e16cd6"
   }
  }
 },
 "nbformat": 4,
 "nbformat_minor": 2
}
