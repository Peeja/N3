{
 "cells": [
  {
   "cell_type": "code",
   "execution_count": 20,
   "metadata": {},
   "outputs": [],
   "source": [
    "from rdflib import Graph"
   ]
  },
  {
   "cell_type": "code",
   "execution_count": 21,
   "metadata": {},
   "outputs": [
    {
     "ename": "BadSyntax",
     "evalue": "at line 20 of <>:\nBad syntax (objectList expected) at ^ in:\n\"...b' true \\n        ?X string:concatenation \"hello world\" .\\n    }'^b'\\n    => \\n    {   \\n        ?X :concatenation ?Y .\\n    } . ]\\n\\n'...\"",
     "output_type": "error",
     "traceback": [
      "Traceback \u001b[0;36m(most recent call last)\u001b[0m:\n",
      "\u001b[0m  File \u001b[1;32m~/Library/Python/3.9/lib/python/site-packages/IPython/core/interactiveshell.py:3378\u001b[0m in \u001b[1;35mrun_code\u001b[0m\n    exec(code_obj, self.user_global_ns, self.user_ns)\u001b[0m\n",
      "\u001b[0m  Cell \u001b[1;32mIn [21], line 1\u001b[0m\n    g = Graph().parse('test.n3', format='n3')\u001b[0m\n",
      "\u001b[0m  File \u001b[1;32m~/Library/Python/3.9/lib/python/site-packages/rdflib/graph.py:1267\u001b[0m in \u001b[1;35mparse\u001b[0m\n    raise se\u001b[0m\n",
      "\u001b[0m  File \u001b[1;32m~/Library/Python/3.9/lib/python/site-packages/rdflib/graph.py:1258\u001b[0m in \u001b[1;35mparse\u001b[0m\n    parser.parse(source, self, **args)  # type: ignore[call-arg]\u001b[0m\n",
      "\u001b[0m  File \u001b[1;32m~/Library/Python/3.9/lib/python/site-packages/rdflib/plugins/parsers/notation3.py:1947\u001b[0m in \u001b[1;35mparse\u001b[0m\n    TurtleParser.parse(self, source, conj_graph, encoding, turtle=False)\u001b[0m\n",
      "\u001b[0m  File \u001b[1;32m~/Library/Python/3.9/lib/python/site-packages/rdflib/plugins/parsers/notation3.py:1913\u001b[0m in \u001b[1;35mparse\u001b[0m\n    p.loadStream(stream)\u001b[0m\n",
      "\u001b[0m  File \u001b[1;32m~/Library/Python/3.9/lib/python/site-packages/rdflib/plugins/parsers/notation3.py:434\u001b[0m in \u001b[1;35mloadStream\u001b[0m\n    return self.loadBuf(stream.read())  # Not ideal\u001b[0m\n",
      "\u001b[0m  File \u001b[1;32m~/Library/Python/3.9/lib/python/site-packages/rdflib/plugins/parsers/notation3.py:440\u001b[0m in \u001b[1;35mloadBuf\u001b[0m\n    self.feed(buf)\u001b[0m\n",
      "\u001b[0m  File \u001b[1;32m~/Library/Python/3.9/lib/python/site-packages/rdflib/plugins/parsers/notation3.py:466\u001b[0m in \u001b[1;35mfeed\u001b[0m\n    i = self.directiveOrStatement(s, j)\u001b[0m\n",
      "\u001b[0m  File \u001b[1;32m~/Library/Python/3.9/lib/python/site-packages/rdflib/plugins/parsers/notation3.py:486\u001b[0m in \u001b[1;35mdirectiveOrStatement\u001b[0m\n    j = self.statement(argstr, i)\u001b[0m\n",
      "\u001b[0m  File \u001b[1;32m~/Library/Python/3.9/lib/python/site-packages/rdflib/plugins/parsers/notation3.py:729\u001b[0m in \u001b[1;35mstatement\u001b[0m\n    i = self.object(argstr, i, r)  # Allow literal for subject - extends RDF\u001b[0m\n",
      "\u001b[0m  File \u001b[1;32m~/Library/Python/3.9/lib/python/site-packages/rdflib/plugins/parsers/notation3.py:1411\u001b[0m in \u001b[1;35mobject\u001b[0m\n    j = self.subject(argstr, i, res)\u001b[0m\n",
      "\u001b[0m  File \u001b[1;32m~/Library/Python/3.9/lib/python/site-packages/rdflib/plugins/parsers/notation3.py:740\u001b[0m in \u001b[1;35msubject\u001b[0m\n    return self.item(argstr, i, res)\u001b[0m\n",
      "\u001b[0m  File \u001b[1;32m~/Library/Python/3.9/lib/python/site-packages/rdflib/plugins/parsers/notation3.py:832\u001b[0m in \u001b[1;35mitem\u001b[0m\n    return self.path(argstr, i, res)\u001b[0m\n",
      "\u001b[0m  File \u001b[1;32m~/Library/Python/3.9/lib/python/site-packages/rdflib/plugins/parsers/notation3.py:839\u001b[0m in \u001b[1;35mpath\u001b[0m\n    j = self.nodeOrLiteral(argstr, i, res)\u001b[0m\n",
      "\u001b[0m  File \u001b[1;32m~/Library/Python/3.9/lib/python/site-packages/rdflib/plugins/parsers/notation3.py:1439\u001b[0m in \u001b[1;35mnodeOrLiteral\u001b[0m\n    j = self.node(argstr, i, res)\u001b[0m\n",
      "\u001b[0m  File \u001b[1;32m~/Library/Python/3.9/lib/python/site-packages/rdflib/plugins/parsers/notation3.py:912\u001b[0m in \u001b[1;35mnode\u001b[0m\n    i = self.property_list(argstr, j, subj)\u001b[0m\n",
      "\u001b[0m  File \u001b[1;32m~/Library/Python/3.9/lib/python/site-packages/rdflib/plugins/parsers/notation3.py:1083\u001b[0m in \u001b[1;35mproperty_list\u001b[0m\n    self.BadSyntax(argstr, j, \"objectList expected\")\u001b[0m\n",
      "\u001b[0;36m  File \u001b[0;32m~/Library/Python/3.9/lib/python/site-packages/rdflib/plugins/parsers/notation3.py:1646\u001b[0;36m in \u001b[0;35mBadSyntax\u001b[0;36m\n\u001b[0;31m    raise BadSyntax(self._thisDoc, self.lines, argstr, i, msg)\u001b[0;36m\n",
      "\u001b[0;36m  File \u001b[0;32m<string>\u001b[0;36m\u001b[0m\n\u001b[0;31mBadSyntax\u001b[0m\n"
     ]
    }
   ],
   "source": [
    "g = Graph().parse('test.n3', format='n3')\n",
    "g.print()"
   ]
  }
 ],
 "metadata": {
  "kernelspec": {
   "display_name": "Python 3.9.6 64-bit",
   "language": "python",
   "name": "python3"
  },
  "language_info": {
   "codemirror_mode": {
    "name": "ipython",
    "version": 3
   },
   "file_extension": ".py",
   "mimetype": "text/x-python",
   "name": "python",
   "nbconvert_exporter": "python",
   "pygments_lexer": "ipython3",
   "version": "3.9.6"
  },
  "orig_nbformat": 4,
  "vscode": {
   "interpreter": {
    "hash": "31f2aee4e71d21fbe5cf8b01ff0e069b9275f58929596ceb00d14d90e3e16cd6"
   }
  }
 },
 "nbformat": 4,
 "nbformat_minor": 2
}
