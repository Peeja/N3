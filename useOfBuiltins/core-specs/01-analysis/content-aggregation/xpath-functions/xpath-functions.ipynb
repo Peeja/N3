{
 "cells": [
  {
   "cell_type": "code",
   "execution_count": 10,
   "metadata": {},
   "outputs": [],
   "source": [
    "import os\n",
    "import shutil\n",
    "from rdflib import Graph\n",
    "from rdflib.namespace import RDF, OWL, RDFS"
   ]
  },
  {
   "cell_type": "code",
   "execution_count": 11,
   "metadata": {},
   "outputs": [],
   "source": [
    "kwargs = {\n",
    "    \"filename\": \"function-catalog.xml\"\n",
    "}\n",
    "namespaces = {\n",
    "    \"dcterms\": \"http://purl.org/dc/terms/\",\n",
    "    \"fno\": \"https://w3id.org/function/ontology#\",\n",
    "    \"xpath-fn\": \"http://www.w3.org/2005/xpath-functions#\",\n",
    "    \"xpath-math\": \"http://www.w3.org/2005/xpath-functions/math#\",\n",
    "    \"xpath-map\": \"http://www.w3.org/2005/xpath-functions/map#\",\n",
    "    \"xpath-array\": \"http://www.w3.org/2005/xpath-functions/array#\",\n",
    "    \"xpath-op\": \"http://www.w3.org/2005/xpath-functions/op#\", \n",
    "}"
   ]
  },
  {
   "cell_type": "code",
   "execution_count": 12,
   "metadata": {},
   "outputs": [
    {
     "ename": "BadSyntax",
     "evalue": "at line 6004 of <>:\nBad syntax (bad escape) at ^ in:\n\"...b'        fno:result \"map xmlns=\\\\\"http://www.w3.org/2005/xpath'^b'-functions\\\\\" string key=\\\\\"x\\\\\"\\\\/string string key=\\\\\"y\\\\\"%/stri'...\"",
     "output_type": "error",
     "traceback": [
      "Traceback \u001b[0;36m(most recent call last)\u001b[0m:\n",
      "\u001b[0m  File \u001b[1;32m~/Library/Python/3.9/lib/python/site-packages/IPython/core/interactiveshell.py:3378\u001b[0m in \u001b[1;35mrun_code\u001b[0m\n    exec(code_obj, self.user_global_ns, self.user_ns)\u001b[0m\n",
      "\u001b[0m  Cell \u001b[1;32mIn [12], line 3\u001b[0m\n    g.parse('xpath-3.1-functions-in-FNO.ttl')\u001b[0m\n",
      "\u001b[0m  File \u001b[1;32m~/Library/Python/3.9/lib/python/site-packages/rdflib/graph.py:1339\u001b[0m in \u001b[1;35mparse\u001b[0m\n    raise se\u001b[0m\n",
      "\u001b[0m  File \u001b[1;32m~/Library/Python/3.9/lib/python/site-packages/rdflib/graph.py:1330\u001b[0m in \u001b[1;35mparse\u001b[0m\n    parser.parse(source, self, **args)\u001b[0m\n",
      "\u001b[0m  File \u001b[1;32m~/Library/Python/3.9/lib/python/site-packages/rdflib/plugins/parsers/notation3.py:1943\u001b[0m in \u001b[1;35mparse\u001b[0m\n    p.loadStream(stream)\u001b[0m\n",
      "\u001b[0m  File \u001b[1;32m~/Library/Python/3.9/lib/python/site-packages/rdflib/plugins/parsers/notation3.py:454\u001b[0m in \u001b[1;35mloadStream\u001b[0m\n    return self.loadBuf(stream.read())  # Not ideal\u001b[0m\n",
      "\u001b[0m  File \u001b[1;32m~/Library/Python/3.9/lib/python/site-packages/rdflib/plugins/parsers/notation3.py:460\u001b[0m in \u001b[1;35mloadBuf\u001b[0m\n    self.feed(buf)\u001b[0m\n",
      "\u001b[0m  File \u001b[1;32m~/Library/Python/3.9/lib/python/site-packages/rdflib/plugins/parsers/notation3.py:486\u001b[0m in \u001b[1;35mfeed\u001b[0m\n    i = self.directiveOrStatement(s, j)\u001b[0m\n",
      "\u001b[0m  File \u001b[1;32m~/Library/Python/3.9/lib/python/site-packages/rdflib/plugins/parsers/notation3.py:506\u001b[0m in \u001b[1;35mdirectiveOrStatement\u001b[0m\n    j = self.statement(argstr, i)\u001b[0m\n",
      "\u001b[0m  File \u001b[1;32m~/Library/Python/3.9/lib/python/site-packages/rdflib/plugins/parsers/notation3.py:753\u001b[0m in \u001b[1;35mstatement\u001b[0m\n    j = self.property_list(argstr, i, r[0])\u001b[0m\n",
      "\u001b[0m  File \u001b[1;32m~/Library/Python/3.9/lib/python/site-packages/rdflib/plugins/parsers/notation3.py:1101\u001b[0m in \u001b[1;35mproperty_list\u001b[0m\n    i = self.objectList(argstr, j, objs)\u001b[0m\n",
      "\u001b[0m  File \u001b[1;32m~/Library/Python/3.9/lib/python/site-packages/rdflib/plugins/parsers/notation3.py:1145\u001b[0m in \u001b[1;35mobjectList\u001b[0m\n    i = self.object(argstr, i, res)\u001b[0m\n",
      "\u001b[0m  File \u001b[1;32m~/Library/Python/3.9/lib/python/site-packages/rdflib/plugins/parsers/notation3.py:1431\u001b[0m in \u001b[1;35mobject\u001b[0m\n    j = self.subject(argstr, i, res)\u001b[0m\n",
      "\u001b[0m  File \u001b[1;32m~/Library/Python/3.9/lib/python/site-packages/rdflib/plugins/parsers/notation3.py:760\u001b[0m in \u001b[1;35msubject\u001b[0m\n    return self.item(argstr, i, res)\u001b[0m\n",
      "\u001b[0m  File \u001b[1;32m~/Library/Python/3.9/lib/python/site-packages/rdflib/plugins/parsers/notation3.py:852\u001b[0m in \u001b[1;35mitem\u001b[0m\n    return self.path(argstr, i, res)\u001b[0m\n",
      "\u001b[0m  File \u001b[1;32m~/Library/Python/3.9/lib/python/site-packages/rdflib/plugins/parsers/notation3.py:859\u001b[0m in \u001b[1;35mpath\u001b[0m\n    j = self.nodeOrLiteral(argstr, i, res)\u001b[0m\n",
      "\u001b[0m  File \u001b[1;32m~/Library/Python/3.9/lib/python/site-packages/rdflib/plugins/parsers/notation3.py:1459\u001b[0m in \u001b[1;35mnodeOrLiteral\u001b[0m\n    j = self.node(argstr, i, res)\u001b[0m\n",
      "\u001b[0m  File \u001b[1;32m~/Library/Python/3.9/lib/python/site-packages/rdflib/plugins/parsers/notation3.py:1036\u001b[0m in \u001b[1;35mnode\u001b[0m\n    j = self.item(argstr, i, item)  # @@@@@ should be path, was object\u001b[0m\n",
      "\u001b[0m  File \u001b[1;32m~/Library/Python/3.9/lib/python/site-packages/rdflib/plugins/parsers/notation3.py:852\u001b[0m in \u001b[1;35mitem\u001b[0m\n    return self.path(argstr, i, res)\u001b[0m\n",
      "\u001b[0m  File \u001b[1;32m~/Library/Python/3.9/lib/python/site-packages/rdflib/plugins/parsers/notation3.py:859\u001b[0m in \u001b[1;35mpath\u001b[0m\n    j = self.nodeOrLiteral(argstr, i, res)\u001b[0m\n",
      "\u001b[0m  File \u001b[1;32m~/Library/Python/3.9/lib/python/site-packages/rdflib/plugins/parsers/notation3.py:1459\u001b[0m in \u001b[1;35mnodeOrLiteral\u001b[0m\n    j = self.node(argstr, i, res)\u001b[0m\n",
      "\u001b[0m  File \u001b[1;32m~/Library/Python/3.9/lib/python/site-packages/rdflib/plugins/parsers/notation3.py:932\u001b[0m in \u001b[1;35mnode\u001b[0m\n    i = self.property_list(argstr, j, subj)\u001b[0m\n",
      "\u001b[0m  File \u001b[1;32m~/Library/Python/3.9/lib/python/site-packages/rdflib/plugins/parsers/notation3.py:1101\u001b[0m in \u001b[1;35mproperty_list\u001b[0m\n    i = self.objectList(argstr, j, objs)\u001b[0m\n",
      "\u001b[0m  File \u001b[1;32m~/Library/Python/3.9/lib/python/site-packages/rdflib/plugins/parsers/notation3.py:1145\u001b[0m in \u001b[1;35mobjectList\u001b[0m\n    i = self.object(argstr, i, res)\u001b[0m\n",
      "\u001b[0m  File \u001b[1;32m~/Library/Python/3.9/lib/python/site-packages/rdflib/plugins/parsers/notation3.py:1431\u001b[0m in \u001b[1;35mobject\u001b[0m\n    j = self.subject(argstr, i, res)\u001b[0m\n",
      "\u001b[0m  File \u001b[1;32m~/Library/Python/3.9/lib/python/site-packages/rdflib/plugins/parsers/notation3.py:760\u001b[0m in \u001b[1;35msubject\u001b[0m\n    return self.item(argstr, i, res)\u001b[0m\n",
      "\u001b[0m  File \u001b[1;32m~/Library/Python/3.9/lib/python/site-packages/rdflib/plugins/parsers/notation3.py:852\u001b[0m in \u001b[1;35mitem\u001b[0m\n    return self.path(argstr, i, res)\u001b[0m\n",
      "\u001b[0m  File \u001b[1;32m~/Library/Python/3.9/lib/python/site-packages/rdflib/plugins/parsers/notation3.py:859\u001b[0m in \u001b[1;35mpath\u001b[0m\n    j = self.nodeOrLiteral(argstr, i, res)\u001b[0m\n",
      "\u001b[0m  File \u001b[1;32m~/Library/Python/3.9/lib/python/site-packages/rdflib/plugins/parsers/notation3.py:1502\u001b[0m in \u001b[1;35mnodeOrLiteral\u001b[0m\n    j, s = self.strconst(argstr, i, delim)\u001b[0m\n",
      "\u001b[0m  File \u001b[1;32m~/Library/Python/3.9/lib/python/site-packages/rdflib/plugins/parsers/notation3.py:1639\u001b[0m in \u001b[1;35mstrconst\u001b[0m\n    self.BadSyntax(argstr, i, \"bad escape\")\u001b[0m\n",
      "\u001b[0;36m  File \u001b[0;32m~/Library/Python/3.9/lib/python/site-packages/rdflib/plugins/parsers/notation3.py:1666\u001b[0;36m in \u001b[0;35mBadSyntax\u001b[0;36m\n\u001b[0;31m    raise BadSyntax(self._thisDoc, self.lines, argstr, i, msg)\u001b[0;36m\n",
      "\u001b[0;36m  File \u001b[0;32m<string>\u001b[0;36m\u001b[0m\n\u001b[0;31mBadSyntax\u001b[0m\n"
     ]
    }
   ],
   "source": [
    "g = Graph()\n",
    "\n",
    "g.parse('xpath-3.1-functions-in-FNO.ttl')\n",
    "[g.bind(k, v) for k, v in namespaces.items()]\n",
    "g.serialize('xpath-3.1-functions-in-FNO.ttl')\n",
    "g.print()"
   ]
  }
 ],
 "metadata": {
  "kernelspec": {
   "display_name": "Python 3.9.6 64-bit",
   "language": "python",
   "name": "python3"
  },
  "language_info": {
   "codemirror_mode": {
    "name": "ipython",
    "version": 3
   },
   "file_extension": ".py",
   "mimetype": "text/x-python",
   "name": "python",
   "nbconvert_exporter": "python",
   "pygments_lexer": "ipython3",
   "version": "3.9.6"
  },
  "orig_nbformat": 4,
  "vscode": {
   "interpreter": {
    "hash": "31f2aee4e71d21fbe5cf8b01ff0e069b9275f58929596ceb00d14d90e3e16cd6"
   }
  }
 },
 "nbformat": 4,
 "nbformat_minor": 2
}
