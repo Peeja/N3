{
 "cells": [
  {
   "cell_type": "code",
   "execution_count": 1,
   "metadata": {},
   "outputs": [],
   "source": [
    "from rdflib import Graph"
   ]
  },
  {
   "cell_type": "code",
   "execution_count": 2,
   "metadata": {},
   "outputs": [],
   "source": [
    "g = Graph()\n",
    "g += Graph().parse(\"../../ns/crypto.n3\", format=\"n3\")\n",
    "g += Graph().parse(\"../../ns/list.n3\", format=\"n3\")\n",
    "g += Graph().parse(\"../../ns/log.n3\", format=\"n3\")\n",
    "g += Graph().parse(\"../../ns/math.n3\", format=\"n3\")\n",
    "g += Graph().parse(\"../../ns/string.n3\", format=\"n3\")\n",
    "g += Graph().parse(\"../../ns/time.n3\", format=\"n3\")"
   ]
  },
  {
   "cell_type": "code",
   "execution_count": 3,
   "metadata": {},
   "outputs": [
    {
     "data": {
      "text/plain": [
       "<Graph identifier=Ne010f3f89b324e16a5ed4ad5e7305f8d (<class 'rdflib.graph.Graph'>)>"
      ]
     },
     "execution_count": 3,
     "metadata": {},
     "output_type": "execute_result"
    }
   ],
   "source": [
    "g.bind(\"crypto\", \"http://www.w3.org/2000/10/swap/crypto#\")\n",
    "g.bind(\"list\", \"http://www.w3.org/2000/10/swap/list#\")\n",
    "g.bind(\"log\", \"http://www.w3.org/2000/10/swap/log#\")\n",
    "g.bind(\"math\", \"http://www.w3.org/2000/10/swap/math#\")\n",
    "g.bind(\"string\", \"http://www.w3.org/2000/10/swap/string#\")\n",
    "g.bind(\"time\", \"http://www.w3.org/2000/10/swap/time#\")\n",
    "g.serialize('swap-builtins.n3', format='n3')"
   ]
  },
  {
   "cell_type": "code",
   "execution_count": 4,
   "metadata": {},
   "outputs": [
    {
     "data": {
      "text/plain": [
       "<Graph identifier=Nc37a010fc9ae4d8aa8363169ac28331d (<class 'rdflib.graph.Graph'>)>"
      ]
     },
     "execution_count": 4,
     "metadata": {},
     "output_type": "execute_result"
    }
   ],
   "source": [
    "query = \"\"\"\n",
    "\n",
    "prefix crypto: <http://www.w3.org/2000/10/swap/crypto#>\n",
    "prefix list: <http://www.w3.org/2000/10/swap/list#>\n",
    "prefix log: <http://www.w3.org/2000/10/swap/log#>\n",
    "prefix math: <http://www.w3.org/2000/10/swap/math#>\n",
    "prefix string: <http://www.w3.org/2000/10/swap/string#>\n",
    "prefix time: <http://www.w3.org/2000/10/swap/time#>\n",
    "\n",
    "construct { ?s ?p ?o } \n",
    "where { \n",
    "    ?s ?p ?o \n",
    "    values ?s { crypto:sha list:append list:first list:in list:iterate list:last list:length list:member list:memberAt list:remove log:conclusion log:conjunction log:content log:dtlit log:equalTo log:forAllIn log:includes log:langlit log:notEqualTo log:notIncludes log:outputString log:parsedAsN3 log:rawType log:semantics log:semanticsOrError log:skolem log:uri math:absoluteValue math:acos math:asin math:atan math:cos math:cosh math:degrees math:difference math:equalTo math:exponentiation math:greaterThan math:lessThan math:negation math:notEqualTo math:notGreaterThan math:notLessThan math:product math:quotient math:remainder math:rounded math:sin math:sinh math:sum math:tan math:tanh string:concatenation string:contains string:containsIgnoringCase string:endsWith string:equalIgnoringCase string:format string:greaterThan string:length string:lessThan string:matches string:notEqualIgnoringCase string:notGreaterThan string:notLessThan string:notMatches string:replace string:scrape string:startsWith time:day time:month time:year time:hours time:minute time:second time:timeZone  }\n",
    "        }\n",
    "\"\"\"\n",
    "b = Graph()\n",
    "b = Graph().parse(g.query(query).serialize(format='n3'))\n",
    "b.bind(\"crypto\", \"http://www.w3.org/2000/10/swap/crypto#\")\n",
    "b.bind(\"list\", \"http://www.w3.org/2000/10/swap/list#\")\n",
    "b.bind(\"log\", \"http://www.w3.org/2000/10/swap/log#\")\n",
    "b.bind(\"math\", \"http://www.w3.org/2000/10/swap/math#\")\n",
    "b.bind(\"string\", \"http://www.w3.org/2000/10/swap/string#\")\n",
    "b.bind(\"time\", \"http://www.w3.org/2000/10/swap/time#\")\n",
    "b.serialize('core-builtins.n3', format='n3')"
   ]
  },
  {
   "cell_type": "code",
   "execution_count": null,
   "metadata": {},
   "outputs": [],
   "source": [
    "from rdflib import Graph\n",
    "fno = Graph().parse('fno-builtins.n3', format='n3')\n",
    "fno.bind(\"crypto\", \"http://www.w3.org/2000/10/swap/crypto#\")\n",
    "fno.bind('fno', \"https://w3id.org/function/ontology#\")\n",
    "fno.bind(\"list\", \"http://www.w3.org/2000/10/swap/list#\")\n",
    "fno.bind(\"log\", \"http://www.w3.org/2000/10/swap/log#\")\n",
    "fno.bind(\"math\", \"http://www.w3.org/2000/10/swap/math#\")\n",
    "fno.bind(\"string\", \"http://www.w3.org/2000/10/swap/string#\")\n",
    "fno.bind(\"time\", \"http://www.w3.org/2000/10/swap/time#\")\n",
    "fno.serialize()"
   ]
  },
  {
   "cell_type": "code",
   "execution_count": 8,
   "metadata": {},
   "outputs": [
    {
     "data": {
      "text/plain": [
       "[74]"
      ]
     },
     "execution_count": 8,
     "metadata": {},
     "output_type": "execute_result"
    }
   ],
   "source": [
    "query = \"\"\"\n",
    "    prefix fno: <https://w3id.org/function/ontology#> \n",
    "    select (count(distinct ?s) as ?count) where { ?s a fno:Function . }\n",
    "\"\"\"\n",
    "[row[0].toPython() for row in fno.query(query)]"
   ]
  },
  {
   "cell_type": "code",
   "execution_count": null,
   "metadata": {},
   "outputs": [],
   "source": []
  }
 ],
 "metadata": {
  "kernelspec": {
   "display_name": "Python 3",
   "language": "python",
   "name": "python3"
  },
  "language_info": {
   "codemirror_mode": {
    "name": "ipython",
    "version": 3
   },
   "file_extension": ".py",
   "mimetype": "text/x-python",
   "name": "python",
   "nbconvert_exporter": "python",
   "pygments_lexer": "ipython3",
   "version": "3.9.6"
  },
  "orig_nbformat": 4,
  "vscode": {
   "interpreter": {
    "hash": "7812ea015bdcee6f23a998adcdd2ef97c151c0c241b7b7070987d9313e41299d"
   }
  }
 },
 "nbformat": 4,
 "nbformat_minor": 2
}
