{
 "cells": [
  {
   "cell_type": "code",
   "execution_count": 3,
   "metadata": {},
   "outputs": [],
   "source": [
    "from rdflib import Graph"
   ]
  },
  {
   "cell_type": "code",
   "execution_count": 4,
   "metadata": {},
   "outputs": [
    {
     "name": "stdout",
     "output_type": "stream",
     "text": [
      "@prefix dc1: <http://purl.org/dc/terms/> .\n",
      "@prefix fno: <https://w3id.org/function/ontology#> .\n",
      "@prefix log: <http://www.w3.org/2000/10/swap/log#> .\n",
      "@prefix n3.list: <http://www.builtins/etc#> .\n",
      "@prefix rdf: <http://www.w3.org/1999/02/22-rdf-syntax-ns#> .\n",
      "@prefix xsd: <http://www.w3.org/2001/XMLSchema#> .\n",
      "\n",
      "n3.list:iterate a fno:Function ;\n",
      "    dc1:description \"\"\"Iterates over index/value pairs of the subject list. Gets pairs of index and element for every member of the subject.\n",
      "        $s+ list:iterate $o[*]\n",
      "    For each element of $s, the builtin will unify $o with a list ( $e0 $e1 )\n",
      "    where         $e0 [xsd:integer]: index in $s\n",
      "        $e1 [concrete]: element in $s\n",
      "        \"\"\" ;\n",
      "    fno:constraints ( [ a fno:Constraint ;\n",
      "                dc1:description \"Domain can be a variable\" ;\n",
      "                fno:expression {_:_:Formula3} ;\n",
      "                fno:prefixes ( [ a fno:Prefix ;\n",
      "                            fno:iri \"http://www.w3.org/2000/10/swap/log#\" ;\n",
      "                            fno:prefix \"log\" ] [ a fno:Prefix ;\n",
      "                            fno:iri \"http://www.w3.org/2000/10/swap/list#\" ;\n",
      "                            fno:prefix \"list\" ] [ a fno:Prefix ;\n",
      "                            fno:iri \"urn:\" ;\n",
      "                            fno:prefix \"\" ] ) ] [ a fno:Constraint ;\n",
      "                dc1:description \"Domain can be a list\" ;\n",
      "                fno:expression {_:_:Formula6} ;\n",
      "                fno:prefixes ( [ a fno:Prefix ;\n",
      "                            fno:iri \"http://www.w3.org/2000/10/swap/log#\" ;\n",
      "                            fno:prefix \"log\" ] [ a fno:Prefix ;\n",
      "                            fno:iri \"http://www.w3.org/2000/10/swap/list#\" ;\n",
      "                            fno:prefix \"list\" ] [ a fno:Prefix ;\n",
      "                            fno:iri \"urn:\" ;\n",
      "                            fno:prefix \"\" ] ) ] ) ;\n",
      "    fno:name \"concatentation\" ;\n",
      "    fno:object ( [ a rdf:Property ;\n",
      "                fno:parameter ( [ a fno:Output ;\n",
      "                            dc1:description \"index in $s\" ;\n",
      "                            fno:mode \"*\" ;\n",
      "                            fno:predicate \"$o.0\" ;\n",
      "                            fno:required true ;\n",
      "                            fno:type \"xs:integer\" ] [ a fno:Output ;\n",
      "                            dc1:description \"element in $s\" ;\n",
      "                            fno:mode \"*\" ;\n",
      "                            fno:predicate \"$o.1\" ;\n",
      "                            fno:required true ;\n",
      "                            fno:type \"concrete\" ] ) ] ) ;\n",
      "    fno:subject ( [ a rdf:Property ;\n",
      "                fno:parameter ( [ a fno:Parameter ;\n",
      "                            dc1:description \"\" ;\n",
      "                            fno:mode \"+\" ;\n",
      "                            fno:predicate \"$s\" ;\n",
      "                            fno:required true ;\n",
      "                            fno:type log:list ] ) ] ) .\n",
      "\n",
      "\n"
     ]
    }
   ],
   "source": [
    "Graph().parse('list.iterate.fno.minus.examples.n3', format='n3').print()"
   ]
  }
 ],
 "metadata": {
  "kernelspec": {
   "display_name": "Python 3.9.6 64-bit",
   "language": "python",
   "name": "python3"
  },
  "language_info": {
   "codemirror_mode": {
    "name": "ipython",
    "version": 3
   },
   "file_extension": ".py",
   "mimetype": "text/x-python",
   "name": "python",
   "nbconvert_exporter": "python",
   "pygments_lexer": "ipython3",
   "version": "3.9.6"
  },
  "orig_nbformat": 4,
  "vscode": {
   "interpreter": {
    "hash": "31f2aee4e71d21fbe5cf8b01ff0e069b9275f58929596ceb00d14d90e3e16cd6"
   }
  }
 },
 "nbformat": 4,
 "nbformat_minor": 2
}
